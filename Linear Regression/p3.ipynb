{
 "cells": [
  {
   "cell_type": "code",
   "execution_count": 310,
   "id": "174cbf11-e050-4345-b17a-420eef91f189",
   "metadata": {},
   "outputs": [],
   "source": [
    "import pandas as pd\n",
    "import matplotlib.pyplot as plt\n",
    "import numpy as np"
   ]
  },
  {
   "cell_type": "code",
   "execution_count": 311,
   "id": "f49133d3-f0f4-4e39-9341-b8b011f897d8",
   "metadata": {},
   "outputs": [
    {
     "data": {
      "text/html": [
       "<div>\n",
       "<style scoped>\n",
       "    .dataframe tbody tr th:only-of-type {\n",
       "        vertical-align: middle;\n",
       "    }\n",
       "\n",
       "    .dataframe tbody tr th {\n",
       "        vertical-align: top;\n",
       "    }\n",
       "\n",
       "    .dataframe thead th {\n",
       "        text-align: right;\n",
       "    }\n",
       "</style>\n",
       "<table border=\"1\" class=\"dataframe\">\n",
       "  <thead>\n",
       "    <tr style=\"text-align: right;\">\n",
       "      <th></th>\n",
       "      <th>country</th>\n",
       "      <th>continent</th>\n",
       "      <th>year</th>\n",
       "      <th>lifeExp</th>\n",
       "      <th>pop</th>\n",
       "      <th>gdpPercap</th>\n",
       "    </tr>\n",
       "  </thead>\n",
       "  <tbody>\n",
       "    <tr>\n",
       "      <th>0</th>\n",
       "      <td>Afghanistan</td>\n",
       "      <td>Asia</td>\n",
       "      <td>1952</td>\n",
       "      <td>28.801</td>\n",
       "      <td>8425333</td>\n",
       "      <td>779.445314</td>\n",
       "    </tr>\n",
       "    <tr>\n",
       "      <th>1</th>\n",
       "      <td>Afghanistan</td>\n",
       "      <td>Asia</td>\n",
       "      <td>1957</td>\n",
       "      <td>30.332</td>\n",
       "      <td>9240934</td>\n",
       "      <td>820.853030</td>\n",
       "    </tr>\n",
       "    <tr>\n",
       "      <th>2</th>\n",
       "      <td>Afghanistan</td>\n",
       "      <td>Asia</td>\n",
       "      <td>1962</td>\n",
       "      <td>31.997</td>\n",
       "      <td>10267083</td>\n",
       "      <td>853.100710</td>\n",
       "    </tr>\n",
       "    <tr>\n",
       "      <th>3</th>\n",
       "      <td>Afghanistan</td>\n",
       "      <td>Asia</td>\n",
       "      <td>1967</td>\n",
       "      <td>34.020</td>\n",
       "      <td>11537966</td>\n",
       "      <td>836.197138</td>\n",
       "    </tr>\n",
       "    <tr>\n",
       "      <th>4</th>\n",
       "      <td>Afghanistan</td>\n",
       "      <td>Asia</td>\n",
       "      <td>1972</td>\n",
       "      <td>36.088</td>\n",
       "      <td>13079460</td>\n",
       "      <td>739.981106</td>\n",
       "    </tr>\n",
       "    <tr>\n",
       "      <th>...</th>\n",
       "      <td>...</td>\n",
       "      <td>...</td>\n",
       "      <td>...</td>\n",
       "      <td>...</td>\n",
       "      <td>...</td>\n",
       "      <td>...</td>\n",
       "    </tr>\n",
       "    <tr>\n",
       "      <th>1699</th>\n",
       "      <td>Zimbabwe</td>\n",
       "      <td>Africa</td>\n",
       "      <td>1987</td>\n",
       "      <td>62.351</td>\n",
       "      <td>9216418</td>\n",
       "      <td>706.157306</td>\n",
       "    </tr>\n",
       "    <tr>\n",
       "      <th>1700</th>\n",
       "      <td>Zimbabwe</td>\n",
       "      <td>Africa</td>\n",
       "      <td>1992</td>\n",
       "      <td>60.377</td>\n",
       "      <td>10704340</td>\n",
       "      <td>693.420786</td>\n",
       "    </tr>\n",
       "    <tr>\n",
       "      <th>1701</th>\n",
       "      <td>Zimbabwe</td>\n",
       "      <td>Africa</td>\n",
       "      <td>1997</td>\n",
       "      <td>46.809</td>\n",
       "      <td>11404948</td>\n",
       "      <td>792.449960</td>\n",
       "    </tr>\n",
       "    <tr>\n",
       "      <th>1702</th>\n",
       "      <td>Zimbabwe</td>\n",
       "      <td>Africa</td>\n",
       "      <td>2002</td>\n",
       "      <td>39.989</td>\n",
       "      <td>11926563</td>\n",
       "      <td>672.038623</td>\n",
       "    </tr>\n",
       "    <tr>\n",
       "      <th>1703</th>\n",
       "      <td>Zimbabwe</td>\n",
       "      <td>Africa</td>\n",
       "      <td>2007</td>\n",
       "      <td>43.487</td>\n",
       "      <td>12311143</td>\n",
       "      <td>469.709298</td>\n",
       "    </tr>\n",
       "  </tbody>\n",
       "</table>\n",
       "<p>1704 rows × 6 columns</p>\n",
       "</div>"
      ],
      "text/plain": [
       "          country continent  year  lifeExp       pop   gdpPercap\n",
       "0     Afghanistan      Asia  1952   28.801   8425333  779.445314\n",
       "1     Afghanistan      Asia  1957   30.332   9240934  820.853030\n",
       "2     Afghanistan      Asia  1962   31.997  10267083  853.100710\n",
       "3     Afghanistan      Asia  1967   34.020  11537966  836.197138\n",
       "4     Afghanistan      Asia  1972   36.088  13079460  739.981106\n",
       "...           ...       ...   ...      ...       ...         ...\n",
       "1699     Zimbabwe    Africa  1987   62.351   9216418  706.157306\n",
       "1700     Zimbabwe    Africa  1992   60.377  10704340  693.420786\n",
       "1701     Zimbabwe    Africa  1997   46.809  11404948  792.449960\n",
       "1702     Zimbabwe    Africa  2002   39.989  11926563  672.038623\n",
       "1703     Zimbabwe    Africa  2007   43.487  12311143  469.709298\n",
       "\n",
       "[1704 rows x 6 columns]"
      ]
     },
     "execution_count": 311,
     "metadata": {},
     "output_type": "execute_result"
    }
   ],
   "source": [
    "data = pd.read_csv(\"mirror/08_gap-every-five-years.tsv\", sep='\\t')\n",
    "data.head()\n",
    "data"
   ]
  },
  {
   "cell_type": "markdown",
   "id": "2cfd1567-cd7f-45f7-9e9d-26e16f26eb0a",
   "metadata": {},
   "source": [
    "Part 1"
   ]
  },
  {
   "cell_type": "markdown",
   "id": "e908b72a-8592-4612-9143-aeea20e447ee",
   "metadata": {},
   "source": [
    "Exercise 1"
   ]
  },
  {
   "cell_type": "code",
   "execution_count": 312,
   "id": "7616d735-be45-4420-9292-b7e2436ca08e",
   "metadata": {},
   "outputs": [
    {
     "data": {
      "image/png": "[encoded data removed]",
      "text/plain": [
       "<Figure size 432x288 with 1 Axes>"
      ]
     },
     "metadata": {
      "needs_background": "light"
     },
     "output_type": "display_data"
    }
   ],
   "source": [
    "subdata = data[['year','lifeExp','continent']].sort_values(by=['year'])\n",
    "x = subdata['year']\n",
    "y = subdata['lifeExp']\n",
    "plt.scatter(x,y)\n",
    "plt.title('scatter plot of life expectancy across time')\n",
    "plt.xlabel('Year')\n",
    "plt.ylabel('Life Expectancy')\n",
    "plt.show()"
   ]
  },
  {
   "cell_type": "markdown",
   "id": "86f88214-2337-4afa-95f7-95f08cde8fe9",
   "metadata": {},
   "source": [
    "Q1: Is there a general trend (e.g., increasing or decreasing) for life expectancy across time? Is this trend linear?"
   ]
  },
  {
   "cell_type": "markdown",
   "id": "04000830-6354-413f-a605-fc3834aaa874",
   "metadata": {},
   "source": [
    "Ans: Yes, there is a general increasing positive trend, which means the life expectancy increases as time passes. It is approximately a linear trend."
   ]
  },
  {
   "cell_type": "code",
   "execution_count": 313,
   "id": "d391d584-f7cc-4bbf-9875-2db71c07b8ee",
   "metadata": {},
   "outputs": [],
   "source": [
    "Max_year = subdata['year'].max()\n",
    "Min_year = subdata['year'].min()\n",
    "life_exp_per_year = []\n",
    "years = []\n",
    " \n",
    "for y in range(Min_year,Max_year+1):\n",
    "    col = []\n",
    "    years.append(y)\n",
    "    for x in range(0,len(subdata)):\n",
    "        if subdata.iat[x,0] == y:\n",
    "            col.append(subdata.iat[x,1])\n",
    "    if col!=[]:\n",
    "        life_exp_per_year.append(col)\n",
    "    else:\n",
    "        years.remove(y)"
   ]
  },
  {
   "cell_type": "code",
   "execution_count": 314,
   "id": "7bb5cbf7-5d2c-4e6a-ac89-8b981c5222f7",
   "metadata": {},
   "outputs": [
    {
     "data": {
      "image/png": "[encoded data removed]",
      "text/plain": [
       "<Figure size 432x288 with 1 Axes>"
      ]
     },
     "metadata": {
      "needs_background": "light"
     },
     "output_type": "display_data"
    }
   ],
   "source": [
    "fig, ax = plt.subplots()\n",
    "\n",
    "ax.violinplot(life_exp_per_year,years,widths=4,showmeans=True)\n",
    "ax.set_xlabel(\"Year\")\n",
    "ax.set_ylabel(\"Life Expectancy\")\n",
    "ax.set_title(\"Violin Plot Example\")\n",
    "fig.savefig(\"violin.png\")"
   ]
  },
  {
   "cell_type": "markdown",
   "id": "c3529126-4d0e-4b33-aba6-9fffa8535843",
   "metadata": {},
   "source": [
    "Q2: How would you describe the distribution of life expectancy across countries for individual years? Is it skewed, or not? Unimodal or not? Symmetric around it’s center?"
   ]
  },
  {
   "cell_type": "markdown",
   "id": "8522ad73-bf59-4e73-b263-7daa3548befc",
   "metadata": {},
   "source": [
    "Ans: For the first two distributions, they are right-skewed unimodal distributions and not symmetric around their centers. For the third, fourth and fifth distributions, they are skewed bimodal ditribution and they are not perfectly symmetric about their centers. For the rest ditributions, they are left-skewed unimodal ditribution and not symmetric around their centers. Overall, the distributions of life expectancy across countries for individual years are skewed, mostly unimodal and not symmetric."
   ]
  },
  {
   "cell_type": "markdown",
   "id": "df1fc8f2-0e4f-4aea-9fc2-f63ad0c91b03",
   "metadata": {},
   "source": [
    "Q3: Suppose I fit a linear regression model of life expectancy vs. year (treating it as a continuous variable), and test for a relationship between year and life expectancy, will you reject the null hypothesis of no relationship?"
   ]
  },
  {
   "cell_type": "markdown",
   "id": "42c75dc0-1d0e-4eb0-a71d-b3268a7559a9",
   "metadata": {},
   "source": [
    "Ans: Based on the Violin Plot, though there is not enough information indicating a relationship, there is a clear coorelation between those two variables. Thus, I would reject the null hypothesis.  "
   ]
  },
  {
   "cell_type": "markdown",
   "id": "22ac18f3-a8d1-4d23-8ba3-8fb6c4ecc713",
   "metadata": {},
   "source": [
    "Q4: What would a violin plot of residuals from the linear model in Question 3 vs. year look like? "
   ]
  },
  {
   "cell_type": "markdown",
   "id": "5fd9d4b6-f092-4a0c-a630-7012f77d39db",
   "metadata": {},
   "source": [
    "Ans: It would be a linear distribution (a horizontal line) since the residuals are relatively same for a linear distribution."
   ]
  },
  {
   "cell_type": "markdown",
   "id": "afcda888-c12a-4d82-a35e-d0657d3960d7",
   "metadata": {},
   "source": [
    "Q5: According to the assumptions of the linear regression model, what should that violin plot look like? That is, consider the assumptions the linear regression model you used assumes (e.g., about noise, about input distributions, etc); do you think everything is okay?"
   ]
  },
  {
   "cell_type": "markdown",
   "id": "06b8a65f-be83-456f-b09c-728d9644bcf1",
   "metadata": {},
   "source": [
    "Ans: It should be a linear distribution centered around 0"
   ]
  },
  {
   "cell_type": "markdown",
   "id": "8e56f38d-da0b-497c-92b3-eda6ec9c4e2e",
   "metadata": {},
   "source": [
    "Exercise 2"
   ]
  },
  {
   "cell_type": "code",
   "execution_count": 315,
   "id": "dca2c4a2-ab4d-4546-84a9-1aa5ed2b366e",
   "metadata": {},
   "outputs": [],
   "source": [
    "from sklearn.linear_model import LinearRegression\n",
    "import statsmodels.api as sm"
   ]
  },
  {
   "cell_type": "code",
   "execution_count": 316,
   "id": "d7013ad8-d6ba-4123-9b94-ab39b8938c85",
   "metadata": {},
   "outputs": [
    {
     "name": "stdout",
     "output_type": "stream",
     "text": [
      "Coefficient of determination: 0.18975713852188825\n",
      "Intercept: -585.6521874415398\n",
      "Slope: [0.32590383]\n",
      "Regression Line: y =  [0.32590383] * x  -585.6521874415398\n"
     ]
    }
   ],
   "source": [
    "x = np.array(subdata['year']).reshape(-1, 1)\n",
    "y = np.array(subdata['lifeExp'])\n",
    "\n",
    "model = LinearRegression().fit(x, y) \n",
    "r_sq = model.score(x,y )\n",
    "print('Coefficient of determination:', r_sq)\n",
    "print('Intercept:', model.intercept_)\n",
    "print('Slope:', model.coef_) \n",
    "print('Regression Line: y =  {} * x  {}'.format(model.coef_,model.intercept_))"
   ]
  },
  {
   "cell_type": "code",
   "execution_count": 317,
   "id": "de7ab0ae-8491-48a0-8978-352cf4d7e572",
   "metadata": {},
   "outputs": [
    {
     "data": {
      "text/html": [
       "<table class=\"simpletable\">\n",
       "<caption>OLS Regression Results</caption>\n",
       "<tr>\n",
       "  <th>Dep. Variable:</th>         <td>lifeExp</td>     <th>  R-squared:         </th> <td>   0.190</td> \n",
       "</tr>\n",
       "<tr>\n",
       "  <th>Model:</th>                   <td>OLS</td>       <th>  Adj. R-squared:    </th> <td>   0.189</td> \n",
       "</tr>\n",
       "<tr>\n",
       "  <th>Method:</th>             <td>Least Squares</td>  <th>  F-statistic:       </th> <td>   398.6</td> \n",
       "</tr>\n",
       "<tr>\n",
       "  <th>Date:</th>             <td>Thu, 28 Apr 2022</td> <th>  Prob (F-statistic):</th> <td>7.55e-80</td> \n",
       "</tr>\n",
       "<tr>\n",
       "  <th>Time:</th>                 <td>23:13:19</td>     <th>  Log-Likelihood:    </th> <td> -6597.9</td> \n",
       "</tr>\n",
       "<tr>\n",
       "  <th>No. Observations:</th>      <td>  1704</td>      <th>  AIC:               </th> <td>1.320e+04</td>\n",
       "</tr>\n",
       "<tr>\n",
       "  <th>Df Residuals:</th>          <td>  1702</td>      <th>  BIC:               </th> <td>1.321e+04</td>\n",
       "</tr>\n",
       "<tr>\n",
       "  <th>Df Model:</th>              <td>     1</td>      <th>                     </th>     <td> </td>    \n",
       "</tr>\n",
       "<tr>\n",
       "  <th>Covariance Type:</th>      <td>nonrobust</td>    <th>                     </th>     <td> </td>    \n",
       "</tr>\n",
       "</table>\n",
       "<table class=\"simpletable\">\n",
       "<tr>\n",
       "      <td></td>         <th>coef</th>     <th>std err</th>      <th>t</th>      <th>P>|t|</th>  <th>[0.025</th>    <th>0.975]</th>  \n",
       "</tr>\n",
       "<tr>\n",
       "  <th>Intercept</th> <td> -585.6522</td> <td>   32.314</td> <td>  -18.124</td> <td> 0.000</td> <td> -649.031</td> <td> -522.273</td>\n",
       "</tr>\n",
       "<tr>\n",
       "  <th>year</th>      <td>    0.3259</td> <td>    0.016</td> <td>   19.965</td> <td> 0.000</td> <td>    0.294</td> <td>    0.358</td>\n",
       "</tr>\n",
       "</table>\n",
       "<table class=\"simpletable\">\n",
       "<tr>\n",
       "  <th>Omnibus:</th>       <td>386.124</td> <th>  Durbin-Watson:     </th> <td>   1.875</td>\n",
       "</tr>\n",
       "<tr>\n",
       "  <th>Prob(Omnibus):</th> <td> 0.000</td>  <th>  Jarque-Bera (JB):  </th> <td>  90.750</td>\n",
       "</tr>\n",
       "<tr>\n",
       "  <th>Skew:</th>          <td>-0.268</td>  <th>  Prob(JB):          </th> <td>1.97e-20</td>\n",
       "</tr>\n",
       "<tr>\n",
       "  <th>Kurtosis:</th>      <td> 2.004</td>  <th>  Cond. No.          </th> <td>2.27e+05</td>\n",
       "</tr>\n",
       "</table><br/><br/>Notes:<br/>[1] Standard Errors assume that the covariance matrix of the errors is correctly specified.<br/>[2] The condition number is large, 2.27e+05. This might indicate that there are<br/>strong multicollinearity or other numerical problems."
      ],
      "text/plain": [
       "<class 'statsmodels.iolib.summary.Summary'>\n",
       "\"\"\"\n",
       "                            OLS Regression Results                            \n",
       "==============================================================================\n",
       "Dep. Variable:                lifeExp   R-squared:                       0.190\n",
       "Model:                            OLS   Adj. R-squared:                  0.189\n",
       "Method:                 Least Squares   F-statistic:                     398.6\n",
       "Date:                Thu, 28 Apr 2022   Prob (F-statistic):           7.55e-80\n",
       "Time:                        23:13:19   Log-Likelihood:                -6597.9\n",
       "No. Observations:                1704   AIC:                         1.320e+04\n",
       "Df Residuals:                    1702   BIC:                         1.321e+04\n",
       "Df Model:                           1                                         \n",
       "Covariance Type:            nonrobust                                         \n",
       "==============================================================================\n",
       "                 coef    std err          t      P>|t|      [0.025      0.975]\n",
       "------------------------------------------------------------------------------\n",
       "Intercept   -585.6522     32.314    -18.124      0.000    -649.031    -522.273\n",
       "year           0.3259      0.016     19.965      0.000       0.294       0.358\n",
       "==============================================================================\n",
       "Omnibus:                      386.124   Durbin-Watson:                   1.875\n",
       "Prob(Omnibus):                  0.000   Jarque-Bera (JB):               90.750\n",
       "Skew:                          -0.268   Prob(JB):                     1.97e-20\n",
       "Kurtosis:                       2.004   Cond. No.                     2.27e+05\n",
       "==============================================================================\n",
       "\n",
       "Notes:\n",
       "[1] Standard Errors assume that the covariance matrix of the errors is correctly specified.\n",
       "[2] The condition number is large, 2.27e+05. This might indicate that there are\n",
       "strong multicollinearity or other numerical problems.\n",
       "\"\"\""
      ]
     },
     "execution_count": 317,
     "metadata": {},
     "output_type": "execute_result"
    }
   ],
   "source": [
    "lm = sm.OLS.from_formula('lifeExp ~ year', subdata)\n",
    "result = lm.fit()\n",
    "result.summary()"
   ]
  },
  {
   "cell_type": "markdown",
   "id": "93509371-eedc-46ec-b461-d517b558c609",
   "metadata": {},
   "source": [
    "Q6: On average, by how much does life expectancy increase every year around the world?"
   ]
  },
  {
   "cell_type": "markdown",
   "id": "9885fc32-f91a-4888-bf4c-9b06e19b84bc",
   "metadata": {},
   "source": [
    "Ans: 0.32590383"
   ]
  },
  {
   "cell_type": "markdown",
   "id": "2bf8d5b4-f915-42d1-acb1-276bad8ad9d1",
   "metadata": {},
   "source": [
    "Q7: Do you reject the null hypothesis of no relationship between year and life expectancy? Why?"
   ]
  },
  {
   "cell_type": "markdown",
   "id": "0c7bb439-fb0c-4849-8121-351501f2024e",
   "metadata": {},
   "source": [
    "Ans: Yes, we reject the null hypothesis. The p-value is 7.55e-80 which is small enough to reject the null hypothesis"
   ]
  },
  {
   "cell_type": "markdown",
   "id": "ce395d27-c2bc-4066-ba93-99034752be46",
   "metadata": {},
   "source": [
    "Exercise 3"
   ]
  },
  {
   "cell_type": "code",
   "execution_count": 318,
   "id": "f8c66641-bbca-42ab-843d-6f89dc7eddcd",
   "metadata": {},
   "outputs": [
    {
     "data": {
      "image/png": "[encoded data removed]",
      "text/plain": [
       "<Figure size 432x288 with 1 Axes>"
      ]
     },
     "metadata": {
      "needs_background": "light"
     },
     "output_type": "display_data"
    }
   ],
   "source": [
    "subdata['residuals'] = subdata['lifeExp'] - (model.coef_ * subdata['year'] + model.intercept_)\n",
    "res_years = subdata['year']\n",
    "residuals = []\n",
    "for y in range(Min_year,Max_year+1):\n",
    "    col = []\n",
    "    for x in range(0,len(subdata)):\n",
    "        if subdata.iat[x,0] == y:\n",
    "            col.append(subdata.iat[x,1])\n",
    "    if col!=[]:\n",
    "        residuals.append(col)\n",
    "        \n",
    "fig, ax = plt.subplots()\n",
    "\n",
    "ax.violinplot(residuals,years,widths=4,showmeans=True)\n",
    "ax.set_xlabel(\"Year\")\n",
    "ax.set_ylabel(\"Residuals\")\n",
    "ax.set_title(\"residuals vs. year\")\n",
    "fig.savefig(\"violin2.png\")"
   ]
  },
  {
   "cell_type": "markdown",
   "id": "0936337e-8a6a-4fc8-abce-6085257785c7",
   "metadata": {},
   "source": [
    "Q8: Does the plot of Exercise 3 match your expectations (as you answered Question 4)?"
   ]
  },
  {
   "cell_type": "markdown",
   "id": "17e7fad6-79c7-498e-81eb-d519ebdfb3e8",
   "metadata": {},
   "source": [
    "Ans: Yes, it matches. It is a relatively linear distribution (a horizontal line) since the residuals are relatively same for a linear distribution."
   ]
  },
  {
   "cell_type": "markdown",
   "id": "d5a5c41a-e800-4c59-8991-2c775b6d7f1e",
   "metadata": {},
   "source": [
    "Excise 4"
   ]
  },
  {
   "cell_type": "code",
   "execution_count": 321,
   "id": "4ec59ecc-1bea-4abd-8c38-700f12c6cfd8",
   "metadata": {},
   "outputs": [],
   "source": [
    "continent = data['continent'].unique()\n",
    "residuals2 = []\n",
    "for y in continent:\n",
    "    col = []\n",
    "    for x in range(0,len(subdata)):\n",
    "        if subdata.iat[x,2] == y:\n",
    "            col.append(subdata.iat[x,3])\n",
    "    residuals2.append(col)\n"
   ]
  },
  {
   "cell_type": "code",
   "execution_count": 322,
   "id": "a9e251c9-4c90-4976-8692-d966870bf0e4",
   "metadata": {},
   "outputs": [
    {
     "data": {
      "image/png": "[encoded data removed]",
      "text/plain": [
       "<Figure size 720x504 with 1 Axes>"
      ]
     },
     "metadata": {
      "needs_background": "light"
     },
     "output_type": "display_data"
    }
   ],
   "source": [
    "fig = plt.figure(figsize =(10, 7))\n",
    "ax = fig.add_axes([0, 0, 1, 1])\n",
    "bp = ax.boxplot(residuals2)\n",
    "ax.set_xticklabels(continent)\n",
    "plt.title(\"model residuals vs. continent\")\n",
    "plt.xlabel('Continents')\n",
    "plt.ylabel('Model Residuals')\n",
    "plt.show()"
   ]
  },
  {
   "cell_type": "markdown",
   "id": "1b325889-c888-47b3-ad56-fb26e8163746",
   "metadata": {},
   "source": [
    "Q9: Is there a dependence between model residual and continent? If so, what would that suggest when performing a regression analysis of life expectancy across time?"
   ]
  },
  {
   "cell_type": "markdown",
   "id": "7610fee9-cc83-4222-82b2-9b02818f37db",
   "metadata": {},
   "source": [
    "Yes, it seems there is a dependence between model residual and continent since for each continents, the connection betwwen residuals and continents are unclear and each boxgraph is separated and distinct. This suggests that we may need to separate each continents to perform a regression analysis of life expectancy across time."
   ]
  },
  {
   "cell_type": "markdown",
   "id": "679c9cca-ce3e-44e6-8f36-5199c0ab428e",
   "metadata": {},
   "source": [
    "Exercise 5:"
   ]
  },
  {
   "cell_type": "code",
   "execution_count": 350,
   "id": "07812616-2603-4887-bcc7-57d411e4becf",
   "metadata": {},
   "outputs": [
    {
     "data": {
      "image/png": "[encoded data removed]",
      "text/plain": [
       "<Figure size 417.125x360 with 1 Axes>"
      ]
     },
     "metadata": {
      "needs_background": "light"
     },
     "output_type": "display_data"
    },
    {
     "data": {
      "image/png": "[encoded data removed]",
      "text/plain": [
       "<Figure size 430.875x360 with 1 Axes>"
      ]
     },
     "metadata": {
      "needs_background": "light"
     },
     "output_type": "display_data"
    },
    {
     "data": {
      "image/png": "[encoded data removed]",
      "text/plain": [
       "<Figure size 424.75x360 with 1 Axes>"
      ]
     },
     "metadata": {
      "needs_background": "light"
     },
     "output_type": "display_data"
    },
    {
     "data": {
      "image/png": "[encoded data removed]",
      "text/plain": [
       "<Figure size 442.5x360 with 1 Axes>"
      ]
     },
     "metadata": {
      "needs_background": "light"
     },
     "output_type": "display_data"
    },
    {
     "data": {
      "image/png": "[encoded data removed]",
      "text/plain": [
       "<Figure size 436.875x360 with 1 Axes>"
      ]
     },
     "metadata": {
      "needs_background": "light"
     },
     "output_type": "display_data"
    }
   ],
   "source": [
    "import seaborn as sns\n",
    "  \n",
    "colors = {'Americas':'red', 'Europe':'green', 'Asia':'blue', 'Oceania':'purple','Africa':'orange'}\n",
    "for y in continent:\n",
    "    newdata = data.loc[data['continent'] == y]\n",
    "    sns.lmplot(x = \"year\",\n",
    "            y = \"lifeExp\", \n",
    "            ci = None,\n",
    "            data = newdata,\n",
    "            hue = 'continent',\n",
    "            scatter_kws={\"color\":colors[y]}, line_kws={\"color\": colors[y]})"
   ]
  },
  {
   "cell_type": "markdown",
   "id": "eb7c8e7f-6fd3-4717-94b8-909f58fac039",
   "metadata": {},
   "source": [
    "Q10: Based on this plot, should your regression model include an interaction term for continent and year? Why?"
   ]
  },
  {
   "cell_type": "markdown",
   "id": "692e5cb1-0037-476e-9d87-0d234cc039a3",
   "metadata": {},
   "source": [
    "Ans: Yes, an interaction term is needed since the slopes and intersections of those regression lines are too distinct. It means that including an interaction term for continent and year can make the regression more precise and correct."
   ]
  },
  {
   "cell_type": "markdown",
   "id": "1709501f-d498-4654-8960-20967b682772",
   "metadata": {},
   "source": [
    "Exercise 6"
   ]
  },
  {
   "cell_type": "code",
   "execution_count": 353,
   "id": "e9613a43-fdcc-4d49-8ca2-c70ecce2d04a",
   "metadata": {},
   "outputs": [
    {
     "data": {
      "text/html": [
       "<table class=\"simpletable\">\n",
       "<caption>OLS Regression Results</caption>\n",
       "<tr>\n",
       "  <th>Dep. Variable:</th>         <td>lifeExp</td>     <th>  R-squared:         </th> <td>   0.693</td> \n",
       "</tr>\n",
       "<tr>\n",
       "  <th>Model:</th>                   <td>OLS</td>       <th>  Adj. R-squared:    </th> <td>   0.691</td> \n",
       "</tr>\n",
       "<tr>\n",
       "  <th>Method:</th>             <td>Least Squares</td>  <th>  F-statistic:       </th> <td>   424.3</td> \n",
       "</tr>\n",
       "<tr>\n",
       "  <th>Date:</th>             <td>Fri, 29 Apr 2022</td> <th>  Prob (F-statistic):</th>  <td>  0.00</td>  \n",
       "</tr>\n",
       "<tr>\n",
       "  <th>Time:</th>                 <td>00:11:23</td>     <th>  Log-Likelihood:    </th> <td> -5771.9</td> \n",
       "</tr>\n",
       "<tr>\n",
       "  <th>No. Observations:</th>      <td>  1704</td>      <th>  AIC:               </th> <td>1.156e+04</td>\n",
       "</tr>\n",
       "<tr>\n",
       "  <th>Df Residuals:</th>          <td>  1694</td>      <th>  BIC:               </th> <td>1.162e+04</td>\n",
       "</tr>\n",
       "<tr>\n",
       "  <th>Df Model:</th>              <td>     9</td>      <th>                     </th>     <td> </td>    \n",
       "</tr>\n",
       "<tr>\n",
       "  <th>Covariance Type:</th>      <td>nonrobust</td>    <th>                     </th>     <td> </td>    \n",
       "</tr>\n",
       "</table>\n",
       "<table class=\"simpletable\">\n",
       "<tr>\n",
       "               <td></td>                 <th>coef</th>     <th>std err</th>      <th>t</th>      <th>P>|t|</th>  <th>[0.025</th>    <th>0.975]</th>  \n",
       "</tr>\n",
       "<tr>\n",
       "  <th>Intercept</th>                  <td> -524.2578</td> <td>   32.963</td> <td>  -15.904</td> <td> 0.000</td> <td> -588.911</td> <td> -459.605</td>\n",
       "</tr>\n",
       "<tr>\n",
       "  <th>continent[T.Americas]</th>      <td> -138.8484</td> <td>   57.851</td> <td>   -2.400</td> <td> 0.016</td> <td> -252.315</td> <td>  -25.382</td>\n",
       "</tr>\n",
       "<tr>\n",
       "  <th>continent[T.Asia]</th>          <td> -312.6330</td> <td>   52.904</td> <td>   -5.909</td> <td> 0.000</td> <td> -416.396</td> <td> -208.870</td>\n",
       "</tr>\n",
       "<tr>\n",
       "  <th>continent[T.Europe]</th>        <td>  156.8469</td> <td>   54.498</td> <td>    2.878</td> <td> 0.004</td> <td>   49.957</td> <td>  263.737</td>\n",
       "</tr>\n",
       "<tr>\n",
       "  <th>continent[T.Oceania]</th>       <td>  182.3499</td> <td>  171.283</td> <td>    1.065</td> <td> 0.287</td> <td> -153.599</td> <td>  518.298</td>\n",
       "</tr>\n",
       "<tr>\n",
       "  <th>year</th>                       <td>    0.2895</td> <td>    0.017</td> <td>   17.387</td> <td> 0.000</td> <td>    0.257</td> <td>    0.322</td>\n",
       "</tr>\n",
       "<tr>\n",
       "  <th>year:continent[T.Americas]</th> <td>    0.0781</td> <td>    0.029</td> <td>    2.673</td> <td> 0.008</td> <td>    0.021</td> <td>    0.135</td>\n",
       "</tr>\n",
       "<tr>\n",
       "  <th>year:continent[T.Asia]</th>     <td>    0.1636</td> <td>    0.027</td> <td>    6.121</td> <td> 0.000</td> <td>    0.111</td> <td>    0.216</td>\n",
       "</tr>\n",
       "<tr>\n",
       "  <th>year:continent[T.Europe]</th>   <td>   -0.0676</td> <td>    0.028</td> <td>   -2.455</td> <td> 0.014</td> <td>   -0.122</td> <td>   -0.014</td>\n",
       "</tr>\n",
       "<tr>\n",
       "  <th>year:continent[T.Oceania]</th>  <td>   -0.0793</td> <td>    0.087</td> <td>   -0.916</td> <td> 0.360</td> <td>   -0.249</td> <td>    0.090</td>\n",
       "</tr>\n",
       "</table>\n",
       "<table class=\"simpletable\">\n",
       "<tr>\n",
       "  <th>Omnibus:</th>       <td>27.121</td> <th>  Durbin-Watson:     </th> <td>   1.866</td>\n",
       "</tr>\n",
       "<tr>\n",
       "  <th>Prob(Omnibus):</th> <td> 0.000</td> <th>  Jarque-Bera (JB):  </th> <td>  44.106</td>\n",
       "</tr>\n",
       "<tr>\n",
       "  <th>Skew:</th>          <td>-0.121</td> <th>  Prob(JB):          </th> <td>2.65e-10</td>\n",
       "</tr>\n",
       "<tr>\n",
       "  <th>Kurtosis:</th>      <td> 3.750</td> <th>  Cond. No.          </th> <td>2.09e+06</td>\n",
       "</tr>\n",
       "</table><br/><br/>Notes:<br/>[1] Standard Errors assume that the covariance matrix of the errors is correctly specified.<br/>[2] The condition number is large, 2.09e+06. This might indicate that there are<br/>strong multicollinearity or other numerical problems."
      ],
      "text/plain": [
       "<class 'statsmodels.iolib.summary.Summary'>\n",
       "\"\"\"\n",
       "                            OLS Regression Results                            \n",
       "==============================================================================\n",
       "Dep. Variable:                lifeExp   R-squared:                       0.693\n",
       "Model:                            OLS   Adj. R-squared:                  0.691\n",
       "Method:                 Least Squares   F-statistic:                     424.3\n",
       "Date:                Fri, 29 Apr 2022   Prob (F-statistic):               0.00\n",
       "Time:                        00:11:23   Log-Likelihood:                -5771.9\n",
       "No. Observations:                1704   AIC:                         1.156e+04\n",
       "Df Residuals:                    1694   BIC:                         1.162e+04\n",
       "Df Model:                           9                                         \n",
       "Covariance Type:            nonrobust                                         \n",
       "==============================================================================================\n",
       "                                 coef    std err          t      P>|t|      [0.025      0.975]\n",
       "----------------------------------------------------------------------------------------------\n",
       "Intercept                   -524.2578     32.963    -15.904      0.000    -588.911    -459.605\n",
       "continent[T.Americas]       -138.8484     57.851     -2.400      0.016    -252.315     -25.382\n",
       "continent[T.Asia]           -312.6330     52.904     -5.909      0.000    -416.396    -208.870\n",
       "continent[T.Europe]          156.8469     54.498      2.878      0.004      49.957     263.737\n",
       "continent[T.Oceania]         182.3499    171.283      1.065      0.287    -153.599     518.298\n",
       "year                           0.2895      0.017     17.387      0.000       0.257       0.322\n",
       "year:continent[T.Americas]     0.0781      0.029      2.673      0.008       0.021       0.135\n",
       "year:continent[T.Asia]         0.1636      0.027      6.121      0.000       0.111       0.216\n",
       "year:continent[T.Europe]      -0.0676      0.028     -2.455      0.014      -0.122      -0.014\n",
       "year:continent[T.Oceania]     -0.0793      0.087     -0.916      0.360      -0.249       0.090\n",
       "==============================================================================\n",
       "Omnibus:                       27.121   Durbin-Watson:                   1.866\n",
       "Prob(Omnibus):                  0.000   Jarque-Bera (JB):               44.106\n",
       "Skew:                          -0.121   Prob(JB):                     2.65e-10\n",
       "Kurtosis:                       3.750   Cond. No.                     2.09e+06\n",
       "==============================================================================\n",
       "\n",
       "Notes:\n",
       "[1] Standard Errors assume that the covariance matrix of the errors is correctly specified.\n",
       "[2] The condition number is large, 2.09e+06. This might indicate that there are\n",
       "strong multicollinearity or other numerical problems.\n",
       "\"\"\""
      ]
     },
     "execution_count": 353,
     "metadata": {},
     "output_type": "execute_result"
    }
   ],
   "source": [
    "lm2 = sm.OLS.from_formula('lifeExp ~ year * continent', subdata)\n",
    "result2 = lm2.fit()\n",
    "result2.summary()"
   ]
  },
  {
   "cell_type": "markdown",
   "id": "91bdf854-aee7-4999-9d89-b621c1307b58",
   "metadata": {},
   "source": [
    "Q11: Are all parameters in the model significantly (in the p-value sense) different from zero? If not, which are not significantly different from zero?"
   ]
  },
  {
   "cell_type": "markdown",
   "id": "9e4003b4-38f7-4f67-9927-1911f7c8552a",
   "metadata": {},
   "source": [
    "Ans: Not all parameters are significantly different from zero. The Oceania is -0.916 which is close to zero."
   ]
  },
  {
   "cell_type": "markdown",
   "id": "2f84f9a9-39af-4a77-b257-9ac2e1cfbd23",
   "metadata": {},
   "source": [
    "Q12: On average, by how much does life expectancy increase each year for each continent? "
   ]
  },
  {
   "cell_type": "code",
   "execution_count": 357,
   "id": "d43db46f-e775-4928-bbcf-bd11af4138e3",
   "metadata": {},
   "outputs": [
    {
     "data": {
      "text/plain": [
       "Intercept                    -524.257846\n",
       "continent[T.Americas]        -138.848447\n",
       "continent[T.Asia]            -312.633049\n",
       "continent[T.Europe]           156.846852\n",
       "continent[T.Oceania]          182.349883\n",
       "year                            0.289529\n",
       "year:continent[T.Americas]      0.078122\n",
       "year:continent[T.Asia]          0.163593\n",
       "year:continent[T.Europe]       -0.067597\n",
       "year:continent[T.Oceania]      -0.079257\n",
       "dtype: float64"
      ]
     },
     "execution_count": 357,
     "metadata": {},
     "output_type": "execute_result"
    }
   ],
   "source": [
    "result2.params"
   ]
  },
  {
   "cell_type": "markdown",
   "id": "6cc3cd6d-67a4-45b3-863b-7cd7e32a5194",
   "metadata": {},
   "source": [
    "Ans: for Americas per year: increase 0.078122; for Oceania per year: increase -0.079257; for Asia per year: increase 0.163593; for Europe per year: increase -0.067597; for Africa per year: increase 0.289529"
   ]
  },
  {
   "cell_type": "markdown",
   "id": "35e74874-4df6-44cf-9428-93fb83cc8cb2",
   "metadata": {},
   "source": [
    "Exercise 7:"
   ]
  },
  {
   "cell_type": "code",
   "execution_count": 372,
   "id": "967dfb98-52a9-4b0c-97f7-05e3ae99f8e3",
   "metadata": {},
   "outputs": [],
   "source": [
    "subdata['prediction'] = result2.predict()\n",
    "subdata['residuals2'] = subdata['lifeExp'] - subdata['prediction']\n",
    "\n",
    "residuals2 = []\n",
    "for y in years:\n",
    "    col = []\n",
    "    for x in range(0,len(subdata)):\n",
    "        if subdata.iat[x,0] == y:\n",
    "            col.append(subdata.iat[x,5])\n",
    "    if col!=[]:\n",
    "        residuals2.append(col)"
   ]
  },
  {
   "cell_type": "code",
   "execution_count": 374,
   "id": "4db88069-f968-4080-b0a7-0ac224b551b6",
   "metadata": {},
   "outputs": [
    {
     "data": {
      "image/png": "[encoded data removed]",
      "text/plain": [
       "<Figure size 432x288 with 1 Axes>"
      ]
     },
     "metadata": {
      "needs_background": "light"
     },
     "output_type": "display_data"
    }
   ],
   "source": [
    "fig, ax = plt.subplots()\n",
    "\n",
    "ax.violinplot(residuals2,years,widths=4,showmeans=True)\n",
    "ax.set_xlabel(\"Year\")\n",
    "ax.set_ylabel(\"residuals_prediction\")\n",
    "ax.set_title(\"residuals_prediction vs. year\")\n",
    "fig.savefig(\"violin4.png\")"
   ]
  },
  {
   "cell_type": "markdown",
   "id": "c4f37d04-a98f-4694-9f51-fa428d9ed780",
   "metadata": {},
   "source": [
    "Comments: It fits the assumption that it would be normally distributed because those distributions are unimodal, normal and centered around zero."
   ]
  },
  {
   "cell_type": "markdown",
   "id": "e36d4524-616a-469a-8f3a-57a630c93e71",
   "metadata": {},
   "source": [
    "Part2"
   ]
  },
  {
   "cell_type": "code",
   "execution_count": 525,
   "id": "03ba1ce8-13ea-4576-990f-984674ea5f57",
   "metadata": {},
   "outputs": [],
   "source": [
    "import pandas as pd\n",
    "import sklearn\n",
    "from sklearn import datasets\n",
    "from sklearn.discriminant_analysis import LinearDiscriminantAnalysis \n",
    "from sklearn.tree import DecisionTreeClassifier \n",
    "from sklearn import tree"
   ]
  },
  {
   "cell_type": "code",
   "execution_count": 526,
   "id": "13981a2f-1989-4fad-a949-7703820e6e70",
   "metadata": {},
   "outputs": [
    {
     "data": {
      "text/html": [
       "<div>\n",
       "<style scoped>\n",
       "    .dataframe tbody tr th:only-of-type {\n",
       "        vertical-align: middle;\n",
       "    }\n",
       "\n",
       "    .dataframe tbody tr th {\n",
       "        vertical-align: top;\n",
       "    }\n",
       "\n",
       "    .dataframe thead th {\n",
       "        text-align: right;\n",
       "    }\n",
       "</style>\n",
       "<table border=\"1\" class=\"dataframe\">\n",
       "  <thead>\n",
       "    <tr style=\"text-align: right;\">\n",
       "      <th></th>\n",
       "      <th>sepal length (cm)</th>\n",
       "      <th>sepal width (cm)</th>\n",
       "      <th>petal length (cm)</th>\n",
       "      <th>petal width (cm)</th>\n",
       "      <th>target</th>\n",
       "      <th>species</th>\n",
       "    </tr>\n",
       "  </thead>\n",
       "  <tbody>\n",
       "    <tr>\n",
       "      <th>0</th>\n",
       "      <td>5.1</td>\n",
       "      <td>3.5</td>\n",
       "      <td>1.4</td>\n",
       "      <td>0.2</td>\n",
       "      <td>0.0</td>\n",
       "      <td>setosa</td>\n",
       "    </tr>\n",
       "    <tr>\n",
       "      <th>1</th>\n",
       "      <td>4.9</td>\n",
       "      <td>3.0</td>\n",
       "      <td>1.4</td>\n",
       "      <td>0.2</td>\n",
       "      <td>0.0</td>\n",
       "      <td>setosa</td>\n",
       "    </tr>\n",
       "    <tr>\n",
       "      <th>2</th>\n",
       "      <td>4.7</td>\n",
       "      <td>3.2</td>\n",
       "      <td>1.3</td>\n",
       "      <td>0.2</td>\n",
       "      <td>0.0</td>\n",
       "      <td>setosa</td>\n",
       "    </tr>\n",
       "    <tr>\n",
       "      <th>3</th>\n",
       "      <td>4.6</td>\n",
       "      <td>3.1</td>\n",
       "      <td>1.5</td>\n",
       "      <td>0.2</td>\n",
       "      <td>0.0</td>\n",
       "      <td>setosa</td>\n",
       "    </tr>\n",
       "    <tr>\n",
       "      <th>4</th>\n",
       "      <td>5.0</td>\n",
       "      <td>3.6</td>\n",
       "      <td>1.4</td>\n",
       "      <td>0.2</td>\n",
       "      <td>0.0</td>\n",
       "      <td>setosa</td>\n",
       "    </tr>\n",
       "    <tr>\n",
       "      <th>...</th>\n",
       "      <td>...</td>\n",
       "      <td>...</td>\n",
       "      <td>...</td>\n",
       "      <td>...</td>\n",
       "      <td>...</td>\n",
       "      <td>...</td>\n",
       "    </tr>\n",
       "    <tr>\n",
       "      <th>145</th>\n",
       "      <td>6.7</td>\n",
       "      <td>3.0</td>\n",
       "      <td>5.2</td>\n",
       "      <td>2.3</td>\n",
       "      <td>2.0</td>\n",
       "      <td>virginica</td>\n",
       "    </tr>\n",
       "    <tr>\n",
       "      <th>146</th>\n",
       "      <td>6.3</td>\n",
       "      <td>2.5</td>\n",
       "      <td>5.0</td>\n",
       "      <td>1.9</td>\n",
       "      <td>2.0</td>\n",
       "      <td>virginica</td>\n",
       "    </tr>\n",
       "    <tr>\n",
       "      <th>147</th>\n",
       "      <td>6.5</td>\n",
       "      <td>3.0</td>\n",
       "      <td>5.2</td>\n",
       "      <td>2.0</td>\n",
       "      <td>2.0</td>\n",
       "      <td>virginica</td>\n",
       "    </tr>\n",
       "    <tr>\n",
       "      <th>148</th>\n",
       "      <td>6.2</td>\n",
       "      <td>3.4</td>\n",
       "      <td>5.4</td>\n",
       "      <td>2.3</td>\n",
       "      <td>2.0</td>\n",
       "      <td>virginica</td>\n",
       "    </tr>\n",
       "    <tr>\n",
       "      <th>149</th>\n",
       "      <td>5.9</td>\n",
       "      <td>3.0</td>\n",
       "      <td>5.1</td>\n",
       "      <td>1.8</td>\n",
       "      <td>2.0</td>\n",
       "      <td>virginica</td>\n",
       "    </tr>\n",
       "  </tbody>\n",
       "</table>\n",
       "<p>150 rows × 6 columns</p>\n",
       "</div>"
      ],
      "text/plain": [
       "     sepal length (cm)  sepal width (cm)  petal length (cm)  petal width (cm)  \\\n",
       "0                  5.1               3.5                1.4               0.2   \n",
       "1                  4.9               3.0                1.4               0.2   \n",
       "2                  4.7               3.2                1.3               0.2   \n",
       "3                  4.6               3.1                1.5               0.2   \n",
       "4                  5.0               3.6                1.4               0.2   \n",
       "..                 ...               ...                ...               ...   \n",
       "145                6.7               3.0                5.2               2.3   \n",
       "146                6.3               2.5                5.0               1.9   \n",
       "147                6.5               3.0                5.2               2.0   \n",
       "148                6.2               3.4                5.4               2.3   \n",
       "149                5.9               3.0                5.1               1.8   \n",
       "\n",
       "     target    species  \n",
       "0       0.0     setosa  \n",
       "1       0.0     setosa  \n",
       "2       0.0     setosa  \n",
       "3       0.0     setosa  \n",
       "4       0.0     setosa  \n",
       "..      ...        ...  \n",
       "145     2.0  virginica  \n",
       "146     2.0  virginica  \n",
       "147     2.0  virginica  \n",
       "148     2.0  virginica  \n",
       "149     2.0  virginica  \n",
       "\n",
       "[150 rows x 6 columns]"
      ]
     },
     "execution_count": 526,
     "metadata": {},
     "output_type": "execute_result"
    }
   ],
   "source": [
    "iris = datasets.load_iris()\n",
    "df = pd.DataFrame(data = np.c_[iris['data'], iris['target']], columns = iris['feature_names'] + ['target'])\n",
    "df['species'] = pd.Categorical.from_codes(iris.target, iris.target_names)\n",
    "df"
   ]
  },
  {
   "cell_type": "code",
   "execution_count": 527,
   "id": "f02da5ea-7ed4-4454-bd6d-dfcd0217317f",
   "metadata": {},
   "outputs": [],
   "source": [
    "X = df[['sepal length (cm)','sepal width (cm)','petal length (cm)','petal width (cm)']]\n",
    "y = df['species']"
   ]
  },
  {
   "cell_type": "markdown",
   "id": "1279da15-43cf-4e88-86f1-ae9b1a13eb4c",
   "metadata": {},
   "source": [
    "Linear Discriminant Analysis "
   ]
  },
  {
   "cell_type": "code",
   "execution_count": 528,
   "id": "ef17c25f-0fc3-4c01-b50c-d6e92042b40c",
   "metadata": {},
   "outputs": [],
   "source": [
    "clf1 = LinearDiscriminantAnalysis()\n",
    "clf1 = clf1.fit(X.values, y.values)"
   ]
  },
  {
   "cell_type": "markdown",
   "id": "b1d0ab63-4a40-4ac5-b050-12fb66915e74",
   "metadata": {},
   "source": [
    "Decision trees"
   ]
  },
  {
   "cell_type": "code",
   "execution_count": 529,
   "id": "6a680031-ae01-4282-a722-cf088730fd2a",
   "metadata": {},
   "outputs": [],
   "source": [
    "clf2 = DecisionTreeClassifier()\n",
    "clf2 = clf2.fit(X.values, y.values)"
   ]
  },
  {
   "cell_type": "markdown",
   "id": "44170aaa-c957-4471-93c7-dd00de380390",
   "metadata": {},
   "source": [
    "10-fold cross-validation"
   ]
  },
  {
   "cell_type": "code",
   "execution_count": 530,
   "id": "71f5f8b3-0929-41b6-a489-0c6e2782a6e5",
   "metadata": {},
   "outputs": [],
   "source": [
    "from sklearn.model_selection import train_test_split\n",
    "from sklearn.metrics import mean_squared_error\n",
    "from math import sqrt\n",
    "from sklearn import model_selection\n",
    "from sklearn.linear_model import LogisticRegression\n",
    "from sklearn.model_selection import KFold\n",
    "from sklearn.model_selection import LeaveOneOut\n",
    "from sklearn.model_selection import LeavePOut\n",
    "from sklearn.model_selection import ShuffleSplit\n",
    "from sklearn.model_selection import StratifiedKFold"
   ]
  },
  {
   "cell_type": "code",
   "execution_count": 533,
   "id": "e950c6ec-e9ff-4ba2-a3fe-364585687651",
   "metadata": {},
   "outputs": [
    {
     "name": "stdout",
     "output_type": "stream",
     "text": [
      "0.98 accuracy with a standard deviation of 0.04\n"
     ]
    }
   ],
   "source": [
    "kfold = model_selection.KFold(n_splits=10, random_state=100,shuffle=True)\n",
    "model_kfold = LinearDiscriminantAnalysis()\n",
    "results_kfold = model_selection.cross_val_score(model_kfold, X, y, cv=kfold)\n",
    "print(\"%0.2f accuracy with a standard deviation of %0.2f\" % (results_kfold.mean(), results_kfold.std()))\n"
   ]
  },
  {
   "cell_type": "code",
   "execution_count": 536,
   "id": "b33a2338-5d71-4db1-9452-fb8d58ded9f0",
   "metadata": {},
   "outputs": [
    {
     "name": "stdout",
     "output_type": "stream",
     "text": [
      "0.95 accuracy with a standard deviation of 0.06\n"
     ]
    }
   ],
   "source": [
    "kfold = model_selection.KFold(n_splits=10, random_state=100,shuffle=True)\n",
    "model_kfold = DecisionTreeClassifier ()\n",
    "results_kfold = model_selection.cross_val_score(model_kfold, X, y, cv=kfold)\n",
    "print(\"%0.2f accuracy with a standard deviation of %0.2f\" % (results_kfold.mean(), results_kfold.std()))"
   ]
  },
  {
   "cell_type": "markdown",
   "id": "209e9b1b-80de-4583-8150-ca3379b1e2cc",
   "metadata": {},
   "source": [
    "WriteUp: For Part 2, I choose Iris dataset. I load the data using load_iris() from the sklearn.datasets.module. The prediction is classification of types of iris. There are three expected outcomes: setosa, versicolour and virginica. The predictors are sepal length (cm)','sepal width (cm)','petal length (cm)','petal width (cm)'. "
   ]
  },
  {
   "cell_type": "markdown",
   "id": "7e9d11b1-e792-4f11-8d7b-7107aa3e05ae",
   "metadata": {},
   "source": [
    "Then I make my data as a dataframe(code is above). I let X be the predictors and y be the classification.  Then using Linear Discriminant Analysis and Decision trees algorithm(code is above). For Decision trees, I use the 'DecisionTreeClassifier ()'. As for performance metric, I use 10-fold cross-validation to get each algrithm's accuracy and std div."
   ]
  },
  {
   "cell_type": "markdown",
   "id": "60c13f48-e53b-451e-bfc5-eef54993c51b",
   "metadata": {},
   "source": [
    "I first the 'model_selection.KFold' function from 'scikit-learn' and creates 10 folds. Models are LinearDiscriminantAnalysis() and DecisionTreeClassifier(). Then I fit the model and generates cross-validation scores. The 'cv' argument specifies the number of cross-validation splits. At last, print the mean accuracy result and std div."
   ]
  },
  {
   "cell_type": "markdown",
   "id": "b2819702-b3b6-4d79-b31a-eb81a622103d",
   "metadata": {},
   "source": [
    " For Linear Discriminant Analysis, 0.98 accuracy with a standard deviation of 0.04. For Decision trees, 0.95 accuracy with a standard deviation of 0.06.\n",
    " Standard arror = SE = SD/√(sample size). Thus, for Decision trees, SE = 0.005. For LDA, SE = 0.003. Thus, Linear Discriminant Analysis is better because of higher accuracy and lower SE.\n",
    "    \n",
    "   "
   ]
  },
  {
   "cell_type": "code",
   "execution_count": null,
   "id": "1c56c975-89a7-4ecf-82bf-e5c6ba88b145",
   "metadata": {},
   "outputs": [],
   "source": []
  }
 ],
 "metadata": {
  "kernelspec": {
   "display_name": "Python 3 (ipykernel)",
   "language": "python",
   "name": "python3"
  },
  "language_info": {
   "codemirror_mode": {
    "name": "ipython",
    "version": 3
   },
   "file_extension": ".py",
   "mimetype": "text/x-python",
   "name": "python",
   "nbconvert_exporter": "python",
   "pygments_lexer": "ipython3",
   "version": "3.9.7"
  }
 },
 "nbformat": 4,
 "nbformat_minor": 5
}
